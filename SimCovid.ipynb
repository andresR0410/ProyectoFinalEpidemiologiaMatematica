{
  "nbformat": 4,
  "nbformat_minor": 0,
  "metadata": {
    "colab": {
      "name": "SimCovid.ipynb",
      "provenance": [],
      "collapsed_sections": []
    },
    "kernelspec": {
      "name": "python3",
      "display_name": "Python 3"
    },
    "language_info": {
      "name": "python"
    }
  },
  "cells": [
    {
      "cell_type": "markdown",
      "metadata": {
        "id": "mAijdpIS2ZdT"
      },
      "source": [
        "Parte 1 del proyecto final. Programa de simulación del modelo de COVID-19 utilizando datos de Bogotá (https://datosabiertos.bogota.gov.co/dataset/numero-de-casos-confirmados-por-el-laboratorio-de-covid-19-bogota-d-c , https://saludata.saludcapital.gov.co/osb/index.php/datos-de-salud/enfermedades-trasmisibles/ocupacion-ucis/ , https://saludata.saludcapital.gov.co/osb/index.php/datos-de-salud/ofertas-de-servicios-de-salud/ocupacioncamas/) y de México (los obtenidos en clase)"
      ]
    },
    {
      "cell_type": "code",
      "metadata": {
        "id": "GwEKLfUZ-PT0"
      },
      "source": [
        "import numpy as np\n",
        "import matplotlib.pyplot as plt\n",
        "\n",
        "def sim_COV(N,R0,IFR):\n",
        "    #Iniciar arrays de compartimentos\n",
        "    I0 = 1  # infectados no identificados\n",
        "    I1 = 1  # identificados identificados\n",
        "    S=N-I0-I1 #susceptibles\n",
        "    H=0 #poblacion en el hospital\n",
        "    R=0 #poblacion recuperada/removida\n",
        "    D=0 #Muertos\n",
        "    U=0 #Poblacion en UCI\n",
        "    t=list([0]) #tiempo\n",
        "    \n",
        "    #Parámetros de compartimentos obtenidos de datos de Bogotá del siguiente link: \n",
        "    # https://datosabiertos.bogota.gov.co/dataset/numero-de-casos-confirmados-por-el-laboratorio-de-covid-19-bogota-d-c\n",
        "\n",
        "    w1=0.0208 #proporcion de personas en hospital que mueren\n",
        "    w3=0.9789 #Proporcion de personas en hospital que se recuperan\n",
        "    w2=1-w1-w3 #Proporcion de personas en hospital que pasan a UCI\n",
        "    beta=0.019 #proporcion de personas que entra a hospital y muere (por UCI o directo)\n",
        "    r1=1/6.94 #tiempo promedio de actividad infecciosa de individuos de I1\n",
        "\n",
        "\n",
        "    #Parámetros obtenidos de https://saludata.saludcapital.gov.co/osb/index.php/datos-de-salud/enfermedades-trasmisibles/ocupacion-ucis/\n",
        "    #y de https://saludata.saludcapital.gov.co/osb/index.php/datos-de-salud/ofertas-de-servicios-de-salud/ocupacioncamas/\n",
        "    #respectivamente\n",
        "    cH=10798 #camas totales de hospital en Bogotá\n",
        "    cU=2208 #capacidad hospitalaria para COVID en bogotá\n",
        "\n",
        "    #Parámetros de compartimentos obtenidos de datos de México (en clase)\n",
        "    \n",
        "    r0=1/11 #11 días de tiempo promedio de infección\n",
        "    lam = R0*r0\n",
        "    \n",
        "    alfa=1/11.8 #1/tiempo promedio en hospital\n",
        "    mu=1/11.29 #Tiempo promedio en UCI\n",
        "    theta=2/24\n",
        "    p=IFR/beta\n",
        "    nH=0 #conteo de personas que no tuvieron acceso a hospital\n",
        "    nU=0 #conteo de personas que no tuvieron acceso a UCIs\n",
        "    #matriz\n",
        "    M=np.array([[S,I0,I1,R,H,D,U]])\n",
        "    # Matriz de transición\n",
        "    T=np.array(([-1,0,1,0,0,0,0],[-1,1,0,0,0,0,0],[0,-1,0,1,0,0,0],[0,0,-1,0,1,0,0],[0,0,0,0,-1,1,0],\n",
        "                     [0,0,0,0,-1,0,1],[0,0,0,1,-1,0,0],[0,0,0,0,0,1,-1],[0,0,0,1,0,0,-1])) \n",
        "    while I0+I1>0: #Mientras haya infectados\n",
        "        #Actualizar datos\n",
        "        S, I0, I1, R, H, D, U = M[-1][0], M[-1][1], M[-1][2], M[-1][3], M[-1][4], M[-1][5], M[-1][6]\n",
        "        #Actualizar tasas entre compartimentos\n",
        "        r_S_I1=p*lam*S/N*(I0+I1) #    [-1,0,1,0,0,0,0]\n",
        "        r_S_I0=(1-p)*lam*S/N*(I0+I1) # [-1,1,0,0,0,0,0]\n",
        "        r_I0_R=r0*I0 # [0,-1,0,1,0,0,0]\n",
        "        r_I1_H=r1*I1 # [0,0,-1,0,1,0,0]\n",
        "        r_H_D=alfa*H*w1 # [0,0,0,0,-1,1,0]\n",
        "        r_H_U=alfa*H*w2 # [0,0,0,0,-1,0,1]\n",
        "        r_H_R=alfa*H*w3 # [0,0,0,1,-1,0,0]\n",
        "        r_U_D=mu*U*theta # [0,0,0,0,0,1,-1]\n",
        "        r_U_R=mu*U*(1-theta) # [0,0,0,1,0,0,-1]\n",
        "        #probabilidad de cada evento\n",
        "        prob_rates=np.array([r_S_I1,r_S_I0,r_I0_R,r_I1_H, r_H_D,r_H_U,r_H_R,r_U_D,r_U_R])\n",
        "        tot_rate=np.sum(prob_rates)\n",
        "        if tot_rate==0:\n",
        "            break\n",
        "        prob_rates=prob_rates/tot_rate\n",
        "        # determinar siguiente tiempo\n",
        "        t_next = -(np.log(np.random.random()) / tot_rate)\n",
        "        t.append(t[-1]+float(t_next))\n",
        "        # determinar siguiente evento\n",
        "        pos=np.where(np.random.multinomial(1,prob_rates)==1)[0]\n",
        "        event=T[pos]\n",
        "        M=np.append(M, M[-1]+event, 0)\n",
        "        #Determina si colapsa capacidad hospitalaria\n",
        "        if pos==4 and M[-1][4]>=cH: #si pasa el evento 4 y el número de personas es mayor o igual a la capacidad\n",
        "            nH+=1 #se suma 1 a las personas que no pudieron acceder a atencion hospitalaria por falta de capacidad\n",
        "        #Determina si colapsa capacidad UCI\n",
        "        if pos==6 and M[-1][6]==cU: #Análodo al anterior pero con camas de UCI\n",
        "            nU+=1 #se suma 1 persona que no pudo acceder a UCI por falta de camas\n",
        "    return M, np.array(t) #Devuelve la matriz con la información de los compartimentos y un array de tiempo\n",
        "\n",
        "\n",
        "#Configurar el modelo a correr \n",
        "nsim, N, R0, IFR =10, 1000, 3.5, 5/1000 #Indica el número de simulaciones, tamaño de población, R0 e IFR.\n",
        "\n",
        "\n",
        "plt.figure() #Crea la gráfica\n",
        "for i in range(0,nsim): #Realiza el número de simulaciones indicado\n",
        "    M, t =sim_COV(N, R0, IFR) #Llama la funcion de simulacion indicando el tamaño de la población, R0 e IFR.\n",
        "    S, I0, I1, R, H, D, U=M[:,0],M[:,1],M[:,2],M[:,3],M[:,4],M[:,5],M[:,6] #Extrae los datos\n",
        "    #Grafica todos los datos, cada uno en un color determinado\n",
        "    #plt.plot(t,S,label='Susceptibles',color='grey') \n",
        "    plt.plot(t,I0,label='Infectados registrados',color='yellow') \n",
        "    plt.plot(t,I1,label='Infectados no registrados',color='blue')\n",
        "    #plt.plot(t,R,label='Recuperados',color='green')\n",
        "    plt.plot(t,D,label='Muertes',color='black')\n",
        "    #plt.plot(t,H,label='En hospital',color='purple')\n",
        "    plt.plot(t,U,label='UCI',color='red')\n",
        "#Asigna la leyenda para que se muestre solo una para todas las simulaciones y se vean en una sola gráfica\n",
        "handles, labels = plt.gca().get_legend_handles_labels()\n",
        "labels, ids = np.unique(labels, return_index=True)\n",
        "handles = [handles[i] for i in ids]\n",
        "plt.legend(handles, labels, loc='best')\n",
        "#Muestra la grafica resultante\n",
        "plt.show()"
      ],
      "execution_count": null,
      "outputs": []
    },
    {
      "cell_type": "markdown",
      "metadata": {
        "id": "mEaeMgRQ2ulA"
      },
      "source": [
        "Parte 2 \n",
        "a. ¿Cuál es número de infecciones esperadas usando un modelo de urnas?\n",
        "b. ¿Cuál es el número de muertes esperadas en total?\n",
        "c. ¿Cómo se distribuyen las muertes por cada una de los 2 géneros y tres \n",
        "grupos de edad previamente delimitados?"
      ]
    },
    {
      "cell_type": "code",
      "metadata": {
        "colab": {
          "base_uri": "https://localhost:8080/"
        },
        "id": "tUCo8uDC3CXQ",
        "outputId": "f3830f37-ae36-4bc0-9777-ee13965ed81c"
      },
      "source": [
        "from scipy.optimize import fsolve\n",
        "import numpy as np\n",
        "\n",
        "R0=3.5 #Definir el valor de R0\n",
        "N=1000000 #Tamaño de la población\n",
        "def f(s):\n",
        "    return s-(1-np.exp(-R0*s))\n",
        "I=fsolve(f,0.5) #hallar el número de infectados totales\n",
        "print('Infectados totales esperados:', I*N)\n",
        "\n",
        "#Para calcular el número de muertes se usa que M=I*F*theta donde F es una matriz de frecuencia poblacional\n",
        "#obtenida de https://saludata.saludcapital.gov.co/osb/index.php/datos-de-salud/demografia/piramidepoblacional/\n",
        "# y theta es la matriz de mortalidad ajustada obtenida en clase utilizando un IFR=5/1000\n",
        "F=np.array([ [0.2185,0.222],[0.1559,0.1446],[0.1467,0.1120]])\n",
        "theta=np.array([[0.002,0.002],[0.0007,0.0021],[0.0158,0.0248]])\n",
        "muertes_vec=I*F*theta*10**4\n",
        "print('Muertes_totales: ',np.sum(muertes_vec))\n",
        "print('Distribucion_muertes por género (M,F) y edades (0-29,30-49,50+): ', muertes_vec)"
      ],
      "execution_count": 2,
      "outputs": [
        {
          "output_type": "stream",
          "text": [
            "Infectados totales esperados: [965984.76156382]\n",
            "Muertes_totales:  61.71918137821633\n",
            "Distribucion_muertes por género (M,F) y edades (0-29,30-49,50+):  [[ 4.22135341  4.28897234]\n",
            " [ 1.05417917  2.93330933]\n",
            " [22.39017439 26.83119274]]\n"
          ],
          "name": "stdout"
        }
      ]
    },
    {
      "cell_type": "markdown",
      "metadata": {
        "id": "H91inz8U2Sj0"
      },
      "source": [
        "Parte 3\n",
        "Conteste las preguntas a-c anteriores, suponiendo que se aplicara una vacuna \n",
        "con una eficacia del 60% a toda la población."
      ]
    },
    {
      "cell_type": "code",
      "metadata": {
        "colab": {
          "base_uri": "https://localhost:8080/"
        },
        "id": "wTFQG-Lb3DAW",
        "outputId": "659779f9-9948-4767-c805-603647d60e88"
      },
      "source": [
        "from scipy.optimize import fsolve\n",
        "import numpy as np\n",
        "\n",
        "R0=3.5 #Definir el valor de R0\n",
        "N=1000000 #Tamaño de la población\n",
        "def f(s): \n",
        "    return s-(1-0.6)*(1-np.exp(-R0*s))\n",
        "I=fsolve(f,0.5) #hallar el número de infectados totales\n",
        "print('Infectados totales esperados:', I*N)\n",
        "\n",
        "#Para calcular el número de muertes se usa que M=I*F*theta donde F es una matriz de frecuencia poblacional\n",
        "#obtenida de https://saludata.saludcapital.gov.co/osb/index.php/datos-de-salud/demografia/piramidepoblacional/\n",
        "# y theta es la matriz de mortalidad ajustada obtenida en clase utilizando un IFR=5/1000\n",
        "F=np.array([ [0.2185,0.222],[0.1559,0.1446],[0.1467,0.1120]])\n",
        "theta=np.array([[0.002,0.002],[0.0007,0.0021],[0.0158,0.0248]])\n",
        "muertes_vec=I*F*theta*10**4\n",
        "print('Muertes_totales: ',np.sum(muertes_vec))\n",
        "print('Distribucion_muertes por género (M,F) y edades (0-29,30-49,50+): ', muertes_vec)"
      ],
      "execution_count": 1,
      "outputs": [
        {
          "output_type": "stream",
          "text": [
            "Infectados totales esperados: [204404.47153224]\n",
            "Muertes_totales:  13.059912697373395\n",
            "Distribucion_muertes por género (M,F) y edades (0-29,30-49,50+):  [[0.89324754 0.90755585]\n",
            " [0.2230666  0.62069462]\n",
            " [4.73780948 5.6775386 ]]\n"
          ],
          "name": "stdout"
        }
      ]
    }
  ]
}